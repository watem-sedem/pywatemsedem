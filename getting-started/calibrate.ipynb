{
 "cells": [
  {
   "cell_type": "markdown",
   "id": "5591348d",
   "metadata": {
    "pycharm": {
     "name": "#%% md\n"
    }
   },
   "source": [
    "# Calibration"
   ]
  },
  {
   "cell_type": "code",
   "execution_count": null,
   "id": "c9ff2163",
   "metadata": {
    "pycharm": {
     "name": "#%%\n"
    }
   },
   "outputs": [],
   "source": [
    "%load_ext autoreload\n",
    "%autoreload 2"
   ]
  },
  {
   "cell_type": "markdown",
   "id": "digital-hamburg",
   "metadata": {},
   "source": [
    "## Aim\n",
    "\n",
    "The aim of this notebook is to post process calibration runs and to define a suitable set of ktc values for a given input dataset.\n",
    "\n",
    "Note:\n",
    "- This notebook assumes you already did modelruns with the 'calibrate'-option enabled. This is explained in another tutorial."
   ]
  },
  {
   "cell_type": "code",
   "execution_count": null,
   "id": "behind-rover",
   "metadata": {},
   "outputs": [],
   "source": [
    "from pywatemsedem import calibrate\n",
    "from pywatemsedem.calibrate import calculate_model_efficiency\n",
    "from pathlib import Path\n",
    "import pandas as pd"
   ]
  },
  {
   "cell_type": "markdown",
   "id": "forty-performer",
   "metadata": {},
   "source": [
    "## Observation data"
   ]
  },
  {
   "cell_type": "markdown",
   "id": "worthy-private",
   "metadata": {},
   "source": [
    "We start by reading a file with the measured sediment values. Here, we use the calibration data of Flanders that is stored in the flanders-subpackage. "
   ]
  },
  {
   "cell_type": "code",
   "execution_count": null,
   "id": "center-falls",
   "metadata": {},
   "outputs": [],
   "source": [
    "df_cal = pd.read_csv(Path(\"..\") / \"..\" / \"src\" / \"data\" / \"example_calibration_data.csv\", sep=';')"
   ]
  },
  {
   "cell_type": "markdown",
   "id": "ancient-presentation",
   "metadata": {},
   "source": [
    "As you can see, this pandas.DataFrame contains the sediment yield (sy, tons) and specific sediment yield (ssy, tons/ha) for several catchments. Also the area of each catchment is stored in this table. "
   ]
  },
  {
   "cell_type": "code",
   "execution_count": null,
   "id": "least-sympathy",
   "metadata": {},
   "outputs": [],
   "source": [
    "df_cal.head(10)"
   ]
  },
  {
   "cell_type": "markdown",
   "id": "cognitive-arthur",
   "metadata": {},
   "source": [
    "Not all catchments are included in this calibration. We select the ones that are included."
   ]
  },
  {
   "cell_type": "code",
   "execution_count": null,
   "id": "welcome-cylinder",
   "metadata": {},
   "outputs": [],
   "source": [
    "df_cal = df_cal[df_cal[\"include\"] == 1]"
   ]
  },
  {
   "cell_type": "markdown",
   "id": "reliable-philip",
   "metadata": {},
   "source": [
    "## Simulation data"
   ]
  },
  {
   "cell_type": "markdown",
   "id": "specialized-macedonia",
   "metadata": {},
   "source": [
    "For several catchments in this dataset a calibration run is available in the `datafolder`. We will use these runs in this example. \n",
    "\n",
    "The content of ``results_calibration`` should be (for setting scenario equal to 1, see below):\n",
    "\n",
    "├── cathment_name1  \n",
    "│   ├── ...  \n",
    "│   ├── scenario_1  \n",
    "│   │     ├── ...  \n",
    "│   │     ├── modeloutput/calibration.txt  \n",
    "│   │     ├── ...  \n",
    "│   ├── ...  \n",
    "├── catchment_name2  \n",
    "│   ├── ...  \n",
    "│   ├── scenario_1  \n",
    "│   │     ├── ...  \n",
    "│   │     ├── modeloutput/calibration.txt  \n",
    "│   │     ├── ...  \n",
    "├── ...  "
   ]
  },
  {
   "cell_type": "code",
   "execution_count": null,
   "id": "seven-mortality",
   "metadata": {},
   "outputs": [],
   "source": [
    "datafolder=Path(r\"results_calibration\")\n",
    "scenario_nr = 1"
   ]
  },
  {
   "cell_type": "code",
   "execution_count": null,
   "id": "alert-manchester",
   "metadata": {},
   "outputs": [],
   "source": [
    "datafolder.exists()"
   ]
  },
  {
   "cell_type": "markdown",
   "id": "russian-gothic",
   "metadata": {},
   "source": [
    "All calibration runs in the `datafolder` were done for a range ktc low an ktc high values between 0 and 20. Therefore, we make a Calibration instance with these data."
   ]
  },
  {
   "cell_type": "code",
   "execution_count": null,
   "id": "attempted-marine",
   "metadata": {},
   "outputs": [],
   "source": [
    "caldata = calibrate.Calibration(0,20, 0, 20, 20)"
   ]
  },
  {
   "cell_type": "markdown",
   "id": "adjustable-helen",
   "metadata": {},
   "source": [
    "the Calibration-object calculates automatically some usefull and commonly used variables in the data processing of a calibration. For example a template dataframe where all combinations of ktc-values are already present:"
   ]
  },
  {
   "cell_type": "code",
   "execution_count": null,
   "id": "experimental-brazil",
   "metadata": {},
   "outputs": [],
   "source": [
    "caldata.df_template.head(5)"
   ]
  },
  {
   "cell_type": "code",
   "execution_count": null,
   "id": "separate-summary",
   "metadata": {},
   "outputs": [],
   "source": [
    "df_cal"
   ]
  },
  {
   "cell_type": "markdown",
   "id": "encouraging-creek",
   "metadata": {},
   "source": [
    "We loop over all directories in the datafolder, read the calibration output file, look-up the sy, ssy and area for the catchemnt in the calibration dataframe and process the modeloutput:"
   ]
  },
  {
   "cell_type": "code",
   "execution_count": null,
   "id": "generous-spirit",
   "metadata": {},
   "outputs": [],
   "source": [
    "lst_df = []\n",
    "cols = [\"sy\",\"include\",\"area\",\"ssy\"]\n",
    "\n",
    "for folder in datafolder.iterdir():\n",
    "    \n",
    "    if folder.is_dir():\n",
    "        \n",
    "        name=folder.stem\n",
    "        cond = df_cal[\"name\"]==name\n",
    "        sy,include,area,ssy=df_cal.loc[cond,cols].values.tolist()[0]\n",
    "        \n",
    "        if include==1:\n",
    "            f = datafolder / name / f'scenario_{scenario_nr}/modeloutput/calibration.txt'\n",
    "            df = calibrate.process_calibrationrun_output(f, sy, name, area,endpoint_coefficient=0.)\n",
    "            lst_df.append(df)"
   ]
  },
  {
   "cell_type": "markdown",
   "id": "diagnostic-berlin",
   "metadata": {},
   "source": [
    "Next, we merge all this processed model output to a single dataframe. This dataframe contains a row for every model run for every catchment with a different combination of ktc values."
   ]
  },
  {
   "cell_type": "markdown",
   "id": "driving-scotland",
   "metadata": {},
   "source": [
    "## Evaluate"
   ]
  },
  {
   "cell_type": "code",
   "execution_count": null,
   "id": "timely-husband",
   "metadata": {},
   "outputs": [],
   "source": [
    "df_calibration_results = calibrate.merge_calibration_results(lst_df,caldata)"
   ]
  },
  {
   "cell_type": "code",
   "execution_count": null,
   "id": "reserved-child",
   "metadata": {},
   "outputs": [],
   "source": [
    "df_calibration_results.head(10)"
   ]
  },
  {
   "cell_type": "markdown",
   "id": "broken-malaysia",
   "metadata": {},
   "source": [
    "Now, it is time to calculate the model efficiency for every combination of ktc-values "
   ]
  },
  {
   "cell_type": "code",
   "execution_count": null,
   "id": "central-importance",
   "metadata": {},
   "outputs": [],
   "source": [
    "df_me = calculate_model_efficiency(df_cal, df_calibration_results)"
   ]
  },
  {
   "cell_type": "markdown",
   "id": "abroad-turner",
   "metadata": {},
   "source": [
    "The above function creates a pandas.DataFrame with the model efficiency (according to Nash and Suttcliff, 1970) for the modelled sediment yield (sy) and specific sediment yield (ssy)"
   ]
  },
  {
   "cell_type": "code",
   "execution_count": null,
   "id": "difficult-spank",
   "metadata": {},
   "outputs": [],
   "source": [
    "df_me.head(10)"
   ]
  },
  {
   "cell_type": "markdown",
   "id": "encouraging-difference",
   "metadata": {},
   "source": [
    "We can plot these data too:"
   ]
  },
  {
   "cell_type": "code",
   "execution_count": null,
   "id": "adopted-referral",
   "metadata": {},
   "outputs": [],
   "source": [
    "calibrate.plot_model_efficiency(df_me, caldata, sy=False)"
   ]
  },
  {
   "cell_type": "code",
   "execution_count": null,
   "id": "musical-tobago",
   "metadata": {},
   "outputs": [],
   "source": [
    "calibrate.plot_model_efficiency(df_me, caldata, sy=True)"
   ]
  },
  {
   "cell_type": "markdown",
   "id": "accredited-header",
   "metadata": {},
   "source": [
    "We see several combinations of ktc-values with a high model efficiency for the sediment yield. However, we want to select a combination where the slope between the observed and modelled sediment yield is around 1. Therefore, we calculate a linear regression for all combinations of ktc-values:"
   ]
  },
  {
   "cell_type": "code",
   "execution_count": null,
   "id": "musical-table",
   "metadata": {},
   "outputs": [],
   "source": [
    "df_regressions = calibrate.calculate_regressions(df_calibration_results, caldata)"
   ]
  },
  {
   "cell_type": "code",
   "execution_count": null,
   "id": "accompanied-stranger",
   "metadata": {},
   "outputs": [],
   "source": [
    "df_regressions.head(10)"
   ]
  },
  {
   "cell_type": "markdown",
   "id": "divine-speed",
   "metadata": {},
   "source": [
    "Both dataframes with metrics (`df_regressions` and `df_me`) can be joined on ktc_low and ktc_high:"
   ]
  },
  {
   "cell_type": "code",
   "execution_count": null,
   "id": "acute-parker",
   "metadata": {},
   "outputs": [],
   "source": [
    "df_metrics = pd.merge(left=df_regressions, right=df_me, on=['ktc_low', 'ktc_high'])"
   ]
  },
  {
   "cell_type": "code",
   "execution_count": null,
   "id": "cardiovascular-lawyer",
   "metadata": {},
   "outputs": [],
   "source": [
    "df_metrics.head(10)"
   ]
  },
  {
   "cell_type": "markdown",
   "id": "coral-morocco",
   "metadata": {},
   "source": [
    "According to Verstraeten et al. (2006), the ratio between ktc low and ktc high must be around 1/3. Therefore, we add a column with this ratio to the metrics dataframe"
   ]
  },
  {
   "cell_type": "code",
   "execution_count": null,
   "id": "classical-relaxation",
   "metadata": {},
   "outputs": [],
   "source": [
    "df_metrics = calibrate.calculate_ratio_ktc(df_metrics)"
   ]
  },
  {
   "cell_type": "code",
   "execution_count": null,
   "id": "contemporary-aurora",
   "metadata": {},
   "outputs": [],
   "source": [
    "df_metrics.head(10)"
   ]
  },
  {
   "cell_type": "markdown",
   "id": "present-exhibit",
   "metadata": {},
   "source": [
    "Now, we have a dataframe with all the information we need to select the best combination of ktc values!\n",
    "\n",
    "We define some bounderies on the slope and ratio:"
   ]
  },
  {
   "cell_type": "code",
   "execution_count": null,
   "id": "labeled-behavior",
   "metadata": {},
   "outputs": [],
   "source": [
    "lower_rico=0.90\n",
    "upper_rico=1.10\n",
    "lower_ratio=0.20\n",
    "upper_ratio=0.40"
   ]
  },
  {
   "cell_type": "markdown",
   "id": "greenhouse-rubber",
   "metadata": {},
   "source": [
    "We make a selection"
   ]
  },
  {
   "cell_type": "code",
   "execution_count": null,
   "id": "genuine-fault",
   "metadata": {},
   "outputs": [],
   "source": [
    "selection_ratio = ((df_metrics['ratio_ktc'] >= lower_ratio) & \n",
    "                (df_metrics['ratio_ktc'] < upper_ratio))\n",
    "\n",
    "selection_sy = ((df_metrics['rico_sy'] >= lower_rico) & \n",
    "                (df_metrics['rico_sy'] < upper_rico) &\n",
    "               selection_ratio)\n",
    "\n",
    "selection_ssy = ((df_metrics['rico_ssy'] >= lower_rico) & \n",
    "                (df_metrics['rico_ssy'] < upper_rico) &\n",
    "               selection_ratio)"
   ]
  },
  {
   "cell_type": "markdown",
   "id": "minus-galaxy",
   "metadata": {},
   "source": [
    "And apply the selection on the dataframe"
   ]
  },
  {
   "cell_type": "code",
   "execution_count": null,
   "id": "alternate-spectrum",
   "metadata": {},
   "outputs": [],
   "source": [
    "df_metrics[selection_sy]"
   ]
  },
  {
   "cell_type": "code",
   "execution_count": null,
   "id": "funny-pitch",
   "metadata": {},
   "outputs": [],
   "source": [
    "df_metrics[selection_ssy]"
   ]
  },
  {
   "cell_type": "markdown",
   "id": "closing-diploma",
   "metadata": {},
   "source": [
    "The combination of ktc-values 4/12 has a perfect ratio (1/3), a high ME for both sy and ssy, and the slope of the regression lies arround 1. This is a perfect combination of ktc vaues, and thus the result of the calibration!"
   ]
  },
  {
   "cell_type": "code",
   "execution_count": null,
   "id": "intimate-print",
   "metadata": {},
   "outputs": [],
   "source": [
    "fig,ax = calibrate.plot_regression(df_calibration_results, 3, 12)"
   ]
  },
  {
   "cell_type": "code",
   "execution_count": null,
   "id": "advisory-patio",
   "metadata": {},
   "outputs": [],
   "source": [
    "fig,ax = calibrate.plot_regression(df_calibration_results, 3, 12, 'ssy')"
   ]
  },
  {
   "cell_type": "code",
   "execution_count": null,
   "id": "251f9be7-d5a3-443c-864a-f13633b18a1c",
   "metadata": {},
   "outputs": [],
   "source": []
  }
 ],
 "metadata": {
  "kernelspec": {
   "display_name": "cnws",
   "language": "python",
   "name": "cnws"
  },
  "language_info": {
   "codemirror_mode": {
    "name": "ipython",
    "version": 3
   },
   "file_extension": ".py",
   "mimetype": "text/x-python",
   "name": "python",
   "nbconvert_exporter": "python",
   "pygments_lexer": "ipython3",
   "version": "3.9.5"
  }
 },
 "nbformat": 4,
 "nbformat_minor": 5
}
