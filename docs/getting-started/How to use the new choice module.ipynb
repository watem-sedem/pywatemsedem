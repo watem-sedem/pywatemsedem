{
 "cells": [
  {
   "cell_type": "code",
   "execution_count": null,
   "id": "cbb51353-ece5-40b3-aba8-b83753ae1aeb",
   "metadata": {},
   "outputs": [],
   "source": [
    "from pywatemsedem import choices\n",
    "from pathlib import Path"
   ]
  },
  {
   "cell_type": "markdown",
   "id": "96c87a4a-8e01-4b93-aa74-f81a23e86375",
   "metadata": {},
   "source": [
    "This notebook gives some examples on how to use the new module choices.py. This module creates objects that store all user choices needed for a model run with pywatemsedem.\n",
    "\n",
    "Let start with an example.\n",
    "\n",
    "First we initialise our WSOptions object. In this objec the basic choices of a model run must be made."
   ]
  },
  {
   "cell_type": "code",
   "execution_count": null,
   "id": "767deaea-ba48-487c-a126-82c7ec27c259",
   "metadata": {},
   "outputs": [],
   "source": [
    "ws_options = choices.WSOptions()"
   ]
  },
  {
   "cell_type": "markdown",
   "id": "f2693662-ed9c-41e9-87ee-fd4b411c83e8",
   "metadata": {},
   "source": [
    "Let's have a look at the L model option"
   ]
  },
  {
   "cell_type": "code",
   "execution_count": null,
   "id": "75ae7620-2384-4540-9ad5-442e0df63684",
   "metadata": {},
   "outputs": [],
   "source": [
    "ws_options.l_model"
   ]
  },
  {
   "cell_type": "markdown",
   "id": "ae74227e-910e-4a55-aa85-5e34dc2066e4",
   "metadata": {},
   "source": [
    "We see that the Value of the L model is None, as the user has not set this value yet. There are several ways to add the value of the user choice. We will show these possibilities below."
   ]
  },
  {
   "cell_type": "markdown",
   "id": "23b92145-6e4c-4ec8-b0c2-5b2ccb693f94",
   "metadata": {},
   "source": [
    "The first, and most simple way, is to manually give a value to this user choice."
   ]
  },
  {
   "cell_type": "code",
   "execution_count": null,
   "id": "39488017-239f-40ac-a9a4-405e0b1c73ee",
   "metadata": {},
   "outputs": [],
   "source": [
    "ws_options.l_model = \"Renders_and_Gobeyn_2024\""
   ]
  },
  {
   "cell_type": "markdown",
   "id": "bf79c11f-a65a-4b17-8f8e-dcb1fc498a0e",
   "metadata": {},
   "source": [
    "As shown above, you cannot add just a random value when the \"allowed_values\" property of the choices object is given. \"Renders_and_Gobeyn_2024\" is not an allowed value for the L model, so we have to give a valid one."
   ]
  },
  {
   "cell_type": "code",
   "execution_count": null,
   "id": "5f424e10-395d-4b74-914b-62ea5da0a215",
   "metadata": {},
   "outputs": [],
   "source": [
    "ws_options.l_model = \"Desmet1996_Vanoost2003\""
   ]
  },
  {
   "cell_type": "code",
   "execution_count": null,
   "id": "9963aa0d-f555-41f5-a29b-38b236ecaa82",
   "metadata": {},
   "outputs": [],
   "source": [
    "ws_options.l_model "
   ]
  },
  {
   "cell_type": "markdown",
   "id": "04598368-fd23-4d57-88ee-e0a1895ef6c7",
   "metadata": {},
   "source": [
    "A second way to add the value to a user choice, is to read it from an ini-file. We will show this for the S model."
   ]
  },
  {
   "cell_type": "code",
   "execution_count": null,
   "id": "07b6c146-ef04-4708-a03a-089bddf67ffd",
   "metadata": {},
   "outputs": [],
   "source": [
    "ws_options.s_model"
   ]
  },
  {
   "cell_type": "code",
   "execution_count": null,
   "id": "63fa9fed-b44d-4d2f-b72b-74a756e02b3b",
   "metadata": {},
   "outputs": [],
   "source": [
    "ini_file = Path(\"../../tests/data/default_values.ini\")\n",
    "ws_options.s_model.read_value_from_ini(ini_file)"
   ]
  },
  {
   "cell_type": "code",
   "execution_count": null,
   "id": "33f95a71-c01d-4177-9c91-4237f6d42da3",
   "metadata": {},
   "outputs": [],
   "source": [
    "ws_options.s_model"
   ]
  },
  {
   "cell_type": "markdown",
   "id": "07a4217e-be14-43dd-adbc-6de2814afc77",
   "metadata": {},
   "source": [
    "A third method is to assign the default value to the value. We will illustrate this for the tc model."
   ]
  },
  {
   "cell_type": "code",
   "execution_count": null,
   "id": "0197b7f5-a347-4ebd-95c6-e683579d7d74",
   "metadata": {},
   "outputs": [],
   "source": [
    "ws_options.tc_model.apply_default_value()"
   ]
  },
  {
   "cell_type": "code",
   "execution_count": null,
   "id": "4ae97303-e93f-48c0-8eff-788102b9ff48",
   "metadata": {},
   "outputs": [],
   "source": [
    "ws_options.tc_model"
   ]
  },
  {
   "cell_type": "markdown",
   "id": "bb8e4402-c525-431f-b1cf-388a160234b5",
   "metadata": {},
   "source": [
    "Now, let's set the parameters object. "
   ]
  },
  {
   "cell_type": "code",
   "execution_count": null,
   "id": "3969da6f-4fc2-4a99-8e15-fc9727daaf04",
   "metadata": {},
   "outputs": [],
   "source": [
    "ws_parameters = choices.WSParameters()"
   ]
  },
  {
   "cell_type": "markdown",
   "id": "0bc6d51d-11ce-47e3-87dd-cde476389aaf",
   "metadata": {},
   "source": [
    "Let us assing the r_factor value"
   ]
  },
  {
   "cell_type": "code",
   "execution_count": null,
   "id": "6b3fd5b4-cd70-4422-81f2-83c5ac9b5740",
   "metadata": {},
   "outputs": [],
   "source": [
    "ws_parameters.r_factor = 1250"
   ]
  },
  {
   "cell_type": "markdown",
   "id": "5a6b6078-5c30-490d-b796-da5a8a9d0076",
   "metadata": {},
   "source": [
    "Oh no, we have given the wrong dtype for the R factor parameter. It should be a float, not an int. Let's correct it."
   ]
  },
  {
   "cell_type": "code",
   "execution_count": null,
   "id": "c74afc51-7b8a-49f8-b0d5-4a76ce2636f6",
   "metadata": {},
   "outputs": [],
   "source": [
    "ws_parameters.r_factor = 1250.0"
   ]
  },
  {
   "cell_type": "markdown",
   "id": "a5ed9794-119e-4a20-aa1b-164e0931b54f",
   "metadata": {},
   "source": [
    "If you think you have assigned all parameter values, there is a function available to check if all required/mandatory user choices have a value. Let's check if this is true for ws_parameters."
   ]
  },
  {
   "cell_type": "code",
   "execution_count": null,
   "id": "0f0fd203-d155-454e-a8b7-4705251b742a",
   "metadata": {},
   "outputs": [],
   "source": [
    "ws_parameters.check_mandatory_values()"
   ]
  },
  {
   "cell_type": "markdown",
   "id": "4c3723be-59f7-4aa7-a701-2cc97b90f568",
   "metadata": {},
   "source": [
    "ok, the parcel connectivity cropland is not given. We will assign this value, togheter with all other missing parameters (see documentation which parameters are mandatory to give) "
   ]
  },
  {
   "cell_type": "code",
   "execution_count": null,
   "id": "84a324ca-5cf4-4870-8472-aaa66dc1eff0",
   "metadata": {},
   "outputs": [],
   "source": [
    "ws_parameters.parcel_connectivity_cropland.read_value_from_ini(ini_file)\n",
    "ws_parameters.parcel_connectivity_grasstrips.read_value_from_ini(ini_file)\n",
    "ws_parameters.parcel_connectivity_forest.read_value_from_ini(ini_file)\n",
    "ws_parameters.parcel_trapping_eff_cropland.read_value_from_ini(ini_file)\n",
    "ws_parameters.parcel_trapping_eff_pasture.read_value_from_ini(ini_file)\n",
    "ws_parameters.parcel_trapping_eff_forest.read_value_from_ini(ini_file)\n",
    "ws_parameters.bulk_density.read_value_from_ini(ini_file)"
   ]
  },
  {
   "cell_type": "code",
   "execution_count": null,
   "id": "31762f7c-5202-4aea-8642-1f408ee48d4a",
   "metadata": {},
   "outputs": [],
   "source": [
    "ws_parameters.check_mandatory_values()"
   ]
  },
  {
   "cell_type": "markdown",
   "id": "1b984cff-bb53-4a0b-99ea-465fce498739",
   "metadata": {},
   "source": [
    "If we want to use an extension, we can enable this extension via "
   ]
  },
  {
   "cell_type": "code",
   "execution_count": null,
   "id": "abaf357f-867f-4ec1-b942-723a50a2a402",
   "metadata": {},
   "outputs": [],
   "source": [
    "ws_extensions = choices.WSExtensions()"
   ]
  },
  {
   "cell_type": "code",
   "execution_count": null,
   "id": "79a4e77b-a260-4879-8f67-db057fc618ea",
   "metadata": {},
   "outputs": [],
   "source": [
    "ws_extensions.create_ktc_map = True"
   ]
  },
  {
   "cell_type": "markdown",
   "id": "550d314d-6e86-4409-9944-511388b289fb",
   "metadata": {},
   "source": [
    "Now, we need to set the extension parameters. Note that this class is dependent on the conent of the WSExtensions class. "
   ]
  },
  {
   "cell_type": "code",
   "execution_count": null,
   "id": "70ced25d-6f24-4119-9003-62e02e981303",
   "metadata": {},
   "outputs": [],
   "source": [
    "ws_extensions_parameters = choices.WSExtensionsParameters(ws_extensions)"
   ]
  },
  {
   "cell_type": "markdown",
   "id": "5e5f0098-e1d7-4b93-ae5c-1ad30f848cd3",
   "metadata": {},
   "source": [
    "We have read in the documentation that the parameters 'ktc_low' and 'ktc_high' are needed when the extension 'create_ktc_map' is enabled. "
   ]
  },
  {
   "cell_type": "code",
   "execution_count": null,
   "id": "5ada773d-44e0-496b-b23e-9ed1779f9601",
   "metadata": {},
   "outputs": [],
   "source": [
    "ws_extensions_parameters.ktc_high = 36.0\n",
    "ws_extensions_parameters.ktc_low = 10.5"
   ]
  },
  {
   "cell_type": "code",
   "execution_count": null,
   "id": "24a1371d-8a0f-45fd-bbda-88752a1436a4",
   "metadata": {},
   "outputs": [],
   "source": [
    "ws_extensions_parameters.check_mandatory_values()"
   ]
  },
  {
   "cell_type": "code",
   "execution_count": null,
   "id": "b433a1b0-d248-4376-b83a-6d3400daa564",
   "metadata": {},
   "outputs": [],
   "source": [
    "ws_extensions_parameters.ktc_limit = 0.1"
   ]
  },
  {
   "cell_type": "markdown",
   "id": "48121529-8ee9-45e3-9325-2f282f463127",
   "metadata": {},
   "source": [
    "Now, we only need to decide on the outputs of the model."
   ]
  },
  {
   "cell_type": "code",
   "execution_count": null,
   "id": "871b4a4c-6ee5-42e4-a723-6120cedd511f",
   "metadata": {},
   "outputs": [],
   "source": [
    "ws_output = choices.WSOutput()"
   ]
  },
  {
   "cell_type": "markdown",
   "id": "3d3fd96b-1e2b-4d72-9315-2c5ef0b447b0",
   "metadata": {},
   "source": [
    "We will use all the defaults given."
   ]
  },
  {
   "cell_type": "code",
   "execution_count": null,
   "id": "b473dcaa-c163-4803-aa55-84a2707eeca4",
   "metadata": {},
   "outputs": [],
   "source": []
  }
 ],
 "metadata": {
  "kernelspec": {
   "display_name": "pywatemsedem",
   "language": "python",
   "name": "pywatemsedem"
  },
  "language_info": {
   "codemirror_mode": {
    "name": "ipython",
    "version": 3
   },
   "file_extension": ".py",
   "mimetype": "text/x-python",
   "name": "python",
   "nbconvert_exporter": "python",
   "pygments_lexer": "ipython3",
   "version": "3.12.7"
  }
 },
 "nbformat": 4,
 "nbformat_minor": 5
}
